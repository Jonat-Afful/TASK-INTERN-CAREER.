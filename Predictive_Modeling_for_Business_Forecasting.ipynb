{
 "cells": [
  {
   "cell_type": "markdown",
   "id": "8d7712a6-04c9-4f03-a47a-0b79f27ced47",
   "metadata": {},
   "source": [
    "<font size=\"+3\"><strong>BUSINESS ANALYTICS</strong></font>"
   ]
  },
  {
   "cell_type": "markdown",
   "id": "d283e8b0-fbad-4acd-ae30-d50050a58658",
   "metadata": {},
   "source": [
    "##  Task 2: Predictive Modeling for Business Forecasting"
   ]
  },
  {
   "cell_type": "code",
   "execution_count": 1,
   "id": "ae3287b4-c5eb-4bc5-93b3-85a56013f846",
   "metadata": {},
   "outputs": [],
   "source": [
    "# Importing all necessary libraries\n",
    "import numpy as np\n",
    "import pandas as pd\n",
    "# import seaborn as sns\n",
    "import matplotlib.pyplot as plt\n",
    "# import plotly.express as px\n",
    "from sklearn.linear_model import LinearRegression\n",
    "from sklearn.model_selection import KFold\n",
    "from sklearn.model_selection import cross_val_score\n",
    "from sklearn.metrics import mean_absolute_error\n",
    "from sklearn.metrics import mean_squared_error\n",
    "from sklearn.model_selection import train_test_split\n",
    "# import plotly.graph_objects as go\n",
    "# from scipy import stats"
   ]
  },
  {
   "cell_type": "markdown",
   "id": "9f9fb2ba-015a-4d7a-9ccd-50ef4169fe99",
   "metadata": {},
   "source": [
    "### Task 2.1. Feature Selection and Engineering"
   ]
  },
  {
   "cell_type": "code",
   "execution_count": 2,
   "id": "99c88525-0f36-451b-ab89-6e4cfc7d1ef8",
   "metadata": {},
   "outputs": [],
   "source": [
    "# Read data file into memory\n",
    "financial_data = pd.read_csv(\"Financial Distress.csv\")"
   ]
  },
  {
   "cell_type": "code",
   "execution_count": 3,
   "id": "5457bf26-fc5b-4803-b087-accd6405d577",
   "metadata": {},
   "outputs": [
    {
     "data": {
      "text/html": [
       "<div>\n",
       "<style scoped>\n",
       "    .dataframe tbody tr th:only-of-type {\n",
       "        vertical-align: middle;\n",
       "    }\n",
       "\n",
       "    .dataframe tbody tr th {\n",
       "        vertical-align: top;\n",
       "    }\n",
       "\n",
       "    .dataframe thead th {\n",
       "        text-align: right;\n",
       "    }\n",
       "</style>\n",
       "<table border=\"1\" class=\"dataframe\">\n",
       "  <thead>\n",
       "    <tr style=\"text-align: right;\">\n",
       "      <th></th>\n",
       "      <th>Company</th>\n",
       "      <th>Time</th>\n",
       "      <th>Financial Distress</th>\n",
       "      <th>x1</th>\n",
       "      <th>x2</th>\n",
       "      <th>x3</th>\n",
       "      <th>x4</th>\n",
       "      <th>x5</th>\n",
       "      <th>x6</th>\n",
       "      <th>x7</th>\n",
       "      <th>...</th>\n",
       "      <th>x74</th>\n",
       "      <th>x75</th>\n",
       "      <th>x76</th>\n",
       "      <th>x77</th>\n",
       "      <th>x78</th>\n",
       "      <th>x79</th>\n",
       "      <th>x80</th>\n",
       "      <th>x81</th>\n",
       "      <th>x82</th>\n",
       "      <th>x83</th>\n",
       "    </tr>\n",
       "  </thead>\n",
       "  <tbody>\n",
       "    <tr>\n",
       "      <th>0</th>\n",
       "      <td>1</td>\n",
       "      <td>1</td>\n",
       "      <td>0.010636</td>\n",
       "      <td>1.2810</td>\n",
       "      <td>0.022934</td>\n",
       "      <td>0.87454</td>\n",
       "      <td>1.21640</td>\n",
       "      <td>0.060940</td>\n",
       "      <td>0.188270</td>\n",
       "      <td>0.52510</td>\n",
       "      <td>...</td>\n",
       "      <td>85.437</td>\n",
       "      <td>27.07</td>\n",
       "      <td>26.102</td>\n",
       "      <td>16.000</td>\n",
       "      <td>16.0</td>\n",
       "      <td>0.2</td>\n",
       "      <td>22</td>\n",
       "      <td>0.060390</td>\n",
       "      <td>30</td>\n",
       "      <td>49</td>\n",
       "    </tr>\n",
       "    <tr>\n",
       "      <th>1</th>\n",
       "      <td>1</td>\n",
       "      <td>2</td>\n",
       "      <td>-0.455970</td>\n",
       "      <td>1.2700</td>\n",
       "      <td>0.006454</td>\n",
       "      <td>0.82067</td>\n",
       "      <td>1.00490</td>\n",
       "      <td>-0.014080</td>\n",
       "      <td>0.181040</td>\n",
       "      <td>0.62288</td>\n",
       "      <td>...</td>\n",
       "      <td>107.090</td>\n",
       "      <td>31.31</td>\n",
       "      <td>30.194</td>\n",
       "      <td>17.000</td>\n",
       "      <td>16.0</td>\n",
       "      <td>0.4</td>\n",
       "      <td>22</td>\n",
       "      <td>0.010636</td>\n",
       "      <td>31</td>\n",
       "      <td>50</td>\n",
       "    </tr>\n",
       "    <tr>\n",
       "      <th>2</th>\n",
       "      <td>1</td>\n",
       "      <td>3</td>\n",
       "      <td>-0.325390</td>\n",
       "      <td>1.0529</td>\n",
       "      <td>-0.059379</td>\n",
       "      <td>0.92242</td>\n",
       "      <td>0.72926</td>\n",
       "      <td>0.020476</td>\n",
       "      <td>0.044865</td>\n",
       "      <td>0.43292</td>\n",
       "      <td>...</td>\n",
       "      <td>120.870</td>\n",
       "      <td>36.07</td>\n",
       "      <td>35.273</td>\n",
       "      <td>17.000</td>\n",
       "      <td>15.0</td>\n",
       "      <td>-0.2</td>\n",
       "      <td>22</td>\n",
       "      <td>-0.455970</td>\n",
       "      <td>32</td>\n",
       "      <td>51</td>\n",
       "    </tr>\n",
       "    <tr>\n",
       "      <th>3</th>\n",
       "      <td>1</td>\n",
       "      <td>4</td>\n",
       "      <td>-0.566570</td>\n",
       "      <td>1.1131</td>\n",
       "      <td>-0.015229</td>\n",
       "      <td>0.85888</td>\n",
       "      <td>0.80974</td>\n",
       "      <td>0.076037</td>\n",
       "      <td>0.091033</td>\n",
       "      <td>0.67546</td>\n",
       "      <td>...</td>\n",
       "      <td>54.806</td>\n",
       "      <td>39.80</td>\n",
       "      <td>38.377</td>\n",
       "      <td>17.167</td>\n",
       "      <td>16.0</td>\n",
       "      <td>5.6</td>\n",
       "      <td>22</td>\n",
       "      <td>-0.325390</td>\n",
       "      <td>33</td>\n",
       "      <td>52</td>\n",
       "    </tr>\n",
       "    <tr>\n",
       "      <th>4</th>\n",
       "      <td>2</td>\n",
       "      <td>1</td>\n",
       "      <td>1.357300</td>\n",
       "      <td>1.0623</td>\n",
       "      <td>0.107020</td>\n",
       "      <td>0.81460</td>\n",
       "      <td>0.83593</td>\n",
       "      <td>0.199960</td>\n",
       "      <td>0.047800</td>\n",
       "      <td>0.74200</td>\n",
       "      <td>...</td>\n",
       "      <td>85.437</td>\n",
       "      <td>27.07</td>\n",
       "      <td>26.102</td>\n",
       "      <td>16.000</td>\n",
       "      <td>16.0</td>\n",
       "      <td>0.2</td>\n",
       "      <td>29</td>\n",
       "      <td>1.251000</td>\n",
       "      <td>7</td>\n",
       "      <td>27</td>\n",
       "    </tr>\n",
       "  </tbody>\n",
       "</table>\n",
       "<p>5 rows × 86 columns</p>\n",
       "</div>"
      ],
      "text/plain": [
       "   Company  Time  Financial Distress      x1        x2       x3       x4  \\\n",
       "0        1     1            0.010636  1.2810  0.022934  0.87454  1.21640   \n",
       "1        1     2           -0.455970  1.2700  0.006454  0.82067  1.00490   \n",
       "2        1     3           -0.325390  1.0529 -0.059379  0.92242  0.72926   \n",
       "3        1     4           -0.566570  1.1131 -0.015229  0.85888  0.80974   \n",
       "4        2     1            1.357300  1.0623  0.107020  0.81460  0.83593   \n",
       "\n",
       "         x5        x6       x7  ...      x74    x75     x76     x77   x78  \\\n",
       "0  0.060940  0.188270  0.52510  ...   85.437  27.07  26.102  16.000  16.0   \n",
       "1 -0.014080  0.181040  0.62288  ...  107.090  31.31  30.194  17.000  16.0   \n",
       "2  0.020476  0.044865  0.43292  ...  120.870  36.07  35.273  17.000  15.0   \n",
       "3  0.076037  0.091033  0.67546  ...   54.806  39.80  38.377  17.167  16.0   \n",
       "4  0.199960  0.047800  0.74200  ...   85.437  27.07  26.102  16.000  16.0   \n",
       "\n",
       "   x79  x80       x81  x82  x83  \n",
       "0  0.2   22  0.060390   30   49  \n",
       "1  0.4   22  0.010636   31   50  \n",
       "2 -0.2   22 -0.455970   32   51  \n",
       "3  5.6   22 -0.325390   33   52  \n",
       "4  0.2   29  1.251000    7   27  \n",
       "\n",
       "[5 rows x 86 columns]"
      ]
     },
     "execution_count": 3,
     "metadata": {},
     "output_type": "execute_result"
    }
   ],
   "source": [
    "financial_data.head()\n",
    "# financial_data.info()"
   ]
  },
  {
   "cell_type": "code",
   "execution_count": 4,
   "id": "648e48d5-72bf-47e8-886a-811de7aeee14",
   "metadata": {},
   "outputs": [
    {
     "data": {
      "text/plain": [
       "Index(['Company', 'Time', 'Financial Distress', 'x1', 'x2', 'x3', 'x4', 'x5',\n",
       "       'x6', 'x7', 'x8', 'x9', 'x10', 'x11', 'x12', 'x13', 'x14', 'x15', 'x16',\n",
       "       'x17', 'x18', 'x19', 'x20', 'x21', 'x22', 'x23', 'x24', 'x25', 'x26',\n",
       "       'x27', 'x28', 'x29', 'x30', 'x31', 'x32', 'x33', 'x34', 'x35', 'x36',\n",
       "       'x37', 'x38', 'x39', 'x40', 'x41', 'x42', 'x43', 'x44', 'x45', 'x46',\n",
       "       'x47', 'x48', 'x49', 'x50', 'x51', 'x52', 'x53', 'x54', 'x55', 'x56',\n",
       "       'x57', 'x58', 'x59', 'x60', 'x61', 'x62', 'x63', 'x64', 'x65', 'x66',\n",
       "       'x67', 'x68', 'x69', 'x70', 'x71', 'x72', 'x73', 'x74', 'x75', 'x76',\n",
       "       'x77', 'x78', 'x79', 'x80', 'x81', 'x82', 'x83'],\n",
       "      dtype='object')"
      ]
     },
     "execution_count": 4,
     "metadata": {},
     "output_type": "execute_result"
    }
   ],
   "source": [
    "financial_data.columns"
   ]
  },
  {
   "cell_type": "code",
   "execution_count": 5,
   "id": "964a35e3-8224-43e7-80ad-69ef4251bb91",
   "metadata": {},
   "outputs": [
    {
     "data": {
      "text/plain": [
       "(3672, 86)"
      ]
     },
     "execution_count": 5,
     "metadata": {},
     "output_type": "execute_result"
    }
   ],
   "source": [
    "financial_data.shape"
   ]
  },
  {
   "cell_type": "code",
   "execution_count": 6,
   "id": "2655956b-a2ab-4d30-8d55-92a8078c04db",
   "metadata": {},
   "outputs": [
    {
     "data": {
      "image/png": "[encoded data removed]",
      "text/plain": [
       "<Figure size 1500x600 with 1 Axes>"
      ]
     },
     "metadata": {},
     "output_type": "display_data"
    }
   ],
   "source": [
    "# Check for outliers\n",
    "fig, ax = plt.subplots(figsize=(15, 6))\n",
    "financial_data[\"Financial Distress\"].plot(kind=\"box\", vert=False, title=\"Distribution of Financial Distress\", ax=ax);"
   ]
  },
  {
   "cell_type": "code",
   "execution_count": 7,
   "id": "4c031731-851d-49b5-94af-827401b8978f",
   "metadata": {},
   "outputs": [],
   "source": [
    "# Removing outliers from the financial distress column\n",
    "low, high = financial_data[\"Financial Distress\"].quantile([0.1, 0.9])\n",
    "mask_fd = financial_data[\"Financial Distress\"].between(low, high)\n",
    "financial_data = financial_data[mask_fd]\n"
   ]
  },
  {
   "cell_type": "code",
   "execution_count": 8,
   "id": "a55507d5-7198-476b-8303-2e3ed190058e",
   "metadata": {},
   "outputs": [
    {
     "data": {
      "text/html": [
       "<div>\n",
       "<style scoped>\n",
       "    .dataframe tbody tr th:only-of-type {\n",
       "        vertical-align: middle;\n",
       "    }\n",
       "\n",
       "    .dataframe tbody tr th {\n",
       "        vertical-align: top;\n",
       "    }\n",
       "\n",
       "    .dataframe thead th {\n",
       "        text-align: right;\n",
       "    }\n",
       "</style>\n",
       "<table border=\"1\" class=\"dataframe\">\n",
       "  <thead>\n",
       "    <tr style=\"text-align: right;\">\n",
       "      <th></th>\n",
       "      <th>Company</th>\n",
       "      <th>Time</th>\n",
       "      <th>Financial Distress</th>\n",
       "      <th>x1</th>\n",
       "      <th>x2</th>\n",
       "      <th>x3</th>\n",
       "      <th>x4</th>\n",
       "      <th>x5</th>\n",
       "      <th>x6</th>\n",
       "      <th>x7</th>\n",
       "      <th>...</th>\n",
       "      <th>x74</th>\n",
       "      <th>x75</th>\n",
       "      <th>x76</th>\n",
       "      <th>x77</th>\n",
       "      <th>x78</th>\n",
       "      <th>x79</th>\n",
       "      <th>x80</th>\n",
       "      <th>x81</th>\n",
       "      <th>x82</th>\n",
       "      <th>x83</th>\n",
       "    </tr>\n",
       "  </thead>\n",
       "  <tbody>\n",
       "    <tr>\n",
       "      <th>count</th>\n",
       "      <td>2936.000000</td>\n",
       "      <td>2936.000000</td>\n",
       "      <td>2936.000000</td>\n",
       "      <td>2936.000000</td>\n",
       "      <td>2936.000000</td>\n",
       "      <td>2936.000000</td>\n",
       "      <td>2.936000e+03</td>\n",
       "      <td>2936.000000</td>\n",
       "      <td>2936.000000</td>\n",
       "      <td>2936.000000</td>\n",
       "      <td>...</td>\n",
       "      <td>2936.000000</td>\n",
       "      <td>2936.000000</td>\n",
       "      <td>2936.000000</td>\n",
       "      <td>2936.000000</td>\n",
       "      <td>2936.000000</td>\n",
       "      <td>2936.000000</td>\n",
       "      <td>2936.000000</td>\n",
       "      <td>2936.000000</td>\n",
       "      <td>2936.000000</td>\n",
       "      <td>2936.000000</td>\n",
       "    </tr>\n",
       "    <tr>\n",
       "      <th>mean</th>\n",
       "      <td>182.330381</td>\n",
       "      <td>7.268392</td>\n",
       "      <td>0.769940</td>\n",
       "      <td>1.396602</td>\n",
       "      <td>0.132722</td>\n",
       "      <td>0.605218</td>\n",
       "      <td>8.673154e-01</td>\n",
       "      <td>0.156739</td>\n",
       "      <td>0.108991</td>\n",
       "      <td>0.790248</td>\n",
       "      <td>...</td>\n",
       "      <td>86.772142</td>\n",
       "      <td>88.434419</td>\n",
       "      <td>85.590188</td>\n",
       "      <td>17.685195</td>\n",
       "      <td>15.188424</td>\n",
       "      <td>-2.292151</td>\n",
       "      <td>19.533379</td>\n",
       "      <td>0.899781</td>\n",
       "      <td>12.833106</td>\n",
       "      <td>32.569142</td>\n",
       "    </tr>\n",
       "    <tr>\n",
       "      <th>std</th>\n",
       "      <td>115.726617</td>\n",
       "      <td>4.072867</td>\n",
       "      <td>0.662811</td>\n",
       "      <td>1.509296</td>\n",
       "      <td>0.103879</td>\n",
       "      <td>0.173936</td>\n",
       "      <td>5.750628e-01</td>\n",
       "      <td>0.108733</td>\n",
       "      <td>0.208788</td>\n",
       "      <td>1.091830</td>\n",
       "      <td>...</td>\n",
       "      <td>17.258127</td>\n",
       "      <td>64.167820</td>\n",
       "      <td>63.752253</td>\n",
       "      <td>2.013429</td>\n",
       "      <td>2.799784</td>\n",
       "      <td>7.914453</td>\n",
       "      <td>7.590291</td>\n",
       "      <td>2.571932</td>\n",
       "      <td>9.556649</td>\n",
       "      <td>13.689424</td>\n",
       "    </tr>\n",
       "    <tr>\n",
       "      <th>min</th>\n",
       "      <td>1.000000</td>\n",
       "      <td>1.000000</td>\n",
       "      <td>-0.078725</td>\n",
       "      <td>0.105410</td>\n",
       "      <td>-0.169500</td>\n",
       "      <td>0.016135</td>\n",
       "      <td>7.510000e-07</td>\n",
       "      <td>-0.157720</td>\n",
       "      <td>-0.627750</td>\n",
       "      <td>0.035160</td>\n",
       "      <td>...</td>\n",
       "      <td>54.806000</td>\n",
       "      <td>24.318000</td>\n",
       "      <td>23.776000</td>\n",
       "      <td>15.250000</td>\n",
       "      <td>12.000000</td>\n",
       "      <td>-20.200000</td>\n",
       "      <td>1.000000</td>\n",
       "      <td>-0.482310</td>\n",
       "      <td>1.000000</td>\n",
       "      <td>2.000000</td>\n",
       "    </tr>\n",
       "    <tr>\n",
       "      <th>25%</th>\n",
       "      <td>83.750000</td>\n",
       "      <td>4.000000</td>\n",
       "      <td>0.252078</td>\n",
       "      <td>0.956263</td>\n",
       "      <td>0.059134</td>\n",
       "      <td>0.496885</td>\n",
       "      <td>5.524650e-01</td>\n",
       "      <td>0.080573</td>\n",
       "      <td>-0.024727</td>\n",
       "      <td>0.441720</td>\n",
       "      <td>...</td>\n",
       "      <td>79.951000</td>\n",
       "      <td>38.868000</td>\n",
       "      <td>37.601000</td>\n",
       "      <td>16.000000</td>\n",
       "      <td>13.000000</td>\n",
       "      <td>-6.900000</td>\n",
       "      <td>14.000000</td>\n",
       "      <td>0.236758</td>\n",
       "      <td>6.000000</td>\n",
       "      <td>21.000000</td>\n",
       "    </tr>\n",
       "    <tr>\n",
       "      <th>50%</th>\n",
       "      <td>169.000000</td>\n",
       "      <td>7.000000</td>\n",
       "      <td>0.583805</td>\n",
       "      <td>1.187800</td>\n",
       "      <td>0.112275</td>\n",
       "      <td>0.625815</td>\n",
       "      <td>7.807450e-01</td>\n",
       "      <td>0.136895</td>\n",
       "      <td>0.104325</td>\n",
       "      <td>0.650120</td>\n",
       "      <td>...</td>\n",
       "      <td>89.300000</td>\n",
       "      <td>66.120000</td>\n",
       "      <td>59.471000</td>\n",
       "      <td>17.000000</td>\n",
       "      <td>14.500000</td>\n",
       "      <td>0.300000</td>\n",
       "      <td>19.000000</td>\n",
       "      <td>0.576960</td>\n",
       "      <td>11.000000</td>\n",
       "      <td>33.000000</td>\n",
       "    </tr>\n",
       "    <tr>\n",
       "      <th>75%</th>\n",
       "      <td>262.000000</td>\n",
       "      <td>11.000000</td>\n",
       "      <td>1.139625</td>\n",
       "      <td>1.509225</td>\n",
       "      <td>0.184473</td>\n",
       "      <td>0.734633</td>\n",
       "      <td>1.032350e+00</td>\n",
       "      <td>0.214372</td>\n",
       "      <td>0.231678</td>\n",
       "      <td>0.895903</td>\n",
       "      <td>...</td>\n",
       "      <td>93.883000</td>\n",
       "      <td>130.500000</td>\n",
       "      <td>132.400000</td>\n",
       "      <td>20.000000</td>\n",
       "      <td>16.000000</td>\n",
       "      <td>2.100000</td>\n",
       "      <td>26.000000</td>\n",
       "      <td>1.154925</td>\n",
       "      <td>17.000000</td>\n",
       "      <td>44.000000</td>\n",
       "    </tr>\n",
       "    <tr>\n",
       "      <th>max</th>\n",
       "      <td>422.000000</td>\n",
       "      <td>14.000000</td>\n",
       "      <td>2.659800</td>\n",
       "      <td>51.954000</td>\n",
       "      <td>0.682240</td>\n",
       "      <td>0.962620</td>\n",
       "      <td>6.835600e+00</td>\n",
       "      <td>0.638800</td>\n",
       "      <td>0.929550</td>\n",
       "      <td>38.836000</td>\n",
       "      <td>...</td>\n",
       "      <td>120.870000</td>\n",
       "      <td>227.500000</td>\n",
       "      <td>214.500000</td>\n",
       "      <td>22.000000</td>\n",
       "      <td>22.000000</td>\n",
       "      <td>8.600000</td>\n",
       "      <td>37.000000</td>\n",
       "      <td>128.400000</td>\n",
       "      <td>49.000000</td>\n",
       "      <td>73.000000</td>\n",
       "    </tr>\n",
       "  </tbody>\n",
       "</table>\n",
       "<p>8 rows × 86 columns</p>\n",
       "</div>"
      ],
      "text/plain": [
       "           Company         Time  Financial Distress           x1           x2  \\\n",
       "count  2936.000000  2936.000000         2936.000000  2936.000000  2936.000000   \n",
       "mean    182.330381     7.268392            0.769940     1.396602     0.132722   \n",
       "std     115.726617     4.072867            0.662811     1.509296     0.103879   \n",
       "min       1.000000     1.000000           -0.078725     0.105410    -0.169500   \n",
       "25%      83.750000     4.000000            0.252078     0.956263     0.059134   \n",
       "50%     169.000000     7.000000            0.583805     1.187800     0.112275   \n",
       "75%     262.000000    11.000000            1.139625     1.509225     0.184473   \n",
       "max     422.000000    14.000000            2.659800    51.954000     0.682240   \n",
       "\n",
       "                x3            x4           x5           x6           x7  ...  \\\n",
       "count  2936.000000  2.936000e+03  2936.000000  2936.000000  2936.000000  ...   \n",
       "mean      0.605218  8.673154e-01     0.156739     0.108991     0.790248  ...   \n",
       "std       0.173936  5.750628e-01     0.108733     0.208788     1.091830  ...   \n",
       "min       0.016135  7.510000e-07    -0.157720    -0.627750     0.035160  ...   \n",
       "25%       0.496885  5.524650e-01     0.080573    -0.024727     0.441720  ...   \n",
       "50%       0.625815  7.807450e-01     0.136895     0.104325     0.650120  ...   \n",
       "75%       0.734633  1.032350e+00     0.214372     0.231678     0.895903  ...   \n",
       "max       0.962620  6.835600e+00     0.638800     0.929550    38.836000  ...   \n",
       "\n",
       "               x74          x75          x76          x77          x78  \\\n",
       "count  2936.000000  2936.000000  2936.000000  2936.000000  2936.000000   \n",
       "mean     86.772142    88.434419    85.590188    17.685195    15.188424   \n",
       "std      17.258127    64.167820    63.752253     2.013429     2.799784   \n",
       "min      54.806000    24.318000    23.776000    15.250000    12.000000   \n",
       "25%      79.951000    38.868000    37.601000    16.000000    13.000000   \n",
       "50%      89.300000    66.120000    59.471000    17.000000    14.500000   \n",
       "75%      93.883000   130.500000   132.400000    20.000000    16.000000   \n",
       "max     120.870000   227.500000   214.500000    22.000000    22.000000   \n",
       "\n",
       "               x79          x80          x81          x82          x83  \n",
       "count  2936.000000  2936.000000  2936.000000  2936.000000  2936.000000  \n",
       "mean     -2.292151    19.533379     0.899781    12.833106    32.569142  \n",
       "std       7.914453     7.590291     2.571932     9.556649    13.689424  \n",
       "min     -20.200000     1.000000    -0.482310     1.000000     2.000000  \n",
       "25%      -6.900000    14.000000     0.236758     6.000000    21.000000  \n",
       "50%       0.300000    19.000000     0.576960    11.000000    33.000000  \n",
       "75%       2.100000    26.000000     1.154925    17.000000    44.000000  \n",
       "max       8.600000    37.000000   128.400000    49.000000    73.000000  \n",
       "\n",
       "[8 rows x 86 columns]"
      ]
     },
     "execution_count": 8,
     "metadata": {},
     "output_type": "execute_result"
    }
   ],
   "source": [
    "# Summary statistics of data\n",
    "financial_data.describe()"
   ]
  },
  {
   "cell_type": "code",
   "execution_count": 9,
   "id": "ad53ec2c-9ff6-4be2-be8f-3833cc9038ed",
   "metadata": {},
   "outputs": [
    {
     "data": {
      "image/png": "[encoded data removed]",
      "text/plain": [
       "<Figure size 640x480 with 1 Axes>"
      ]
     },
     "metadata": {},
     "output_type": "display_data"
    }
   ],
   "source": [
    "# Explore the Financial Distress columns of the data\n",
    "\n",
    "# Histogram\n",
    "plt.hist(financial_data[\"Financial Distress\"])\n",
    "plt.xlabel(\"Financial Distress\")\n",
    "plt.title(\"Distribution of Financial Distress for Companies\");"
   ]
  },
  {
   "cell_type": "code",
   "execution_count": 10,
   "id": "db0ef0b4-e497-4b70-9982-3af18b5b49b4",
   "metadata": {},
   "outputs": [
    {
     "data": {
      "image/png": "[encoded data removed]",
      "text/plain": [
       "<Figure size 640x480 with 1 Axes>"
      ]
     },
     "metadata": {},
     "output_type": "display_data"
    }
   ],
   "source": [
    "# Scatter plot\n",
    "plt.scatter(x=financial_data[\"Financial Distress\"], y=financial_data[\"x1\"])\n",
    "plt.xlabel(\"Financil Distress\")\n",
    "plt.ylabel(\"Other Variable\")\n",
    "plt.title(\"Scatter for financial distress of a company\");"
   ]
  },
  {
   "cell_type": "code",
   "execution_count": 11,
   "id": "7a471a44-eaa8-404b-a8b8-b43bcc5148cf",
   "metadata": {},
   "outputs": [
    {
     "data": {
      "image/png": "[encoded data removed]",
      "text/plain": [
       "<Figure size 1500x600 with 1 Axes>"
      ]
     },
     "metadata": {},
     "output_type": "display_data"
    }
   ],
   "source": [
    "# Box plot\n",
    "fig, ax = plt.subplots(figsize=(15, 6))\n",
    "financial_data[\"Financial Distress\"].plot(kind=\"box\", vert=False, title=\"Box plot Distribution of Financial Distress\", ax=ax);"
   ]
  },
  {
   "cell_type": "markdown",
   "id": "d2cc6e5b-30a1-4107-9875-481174508efd",
   "metadata": {},
   "source": [
    "### Task 2.2. Model Selection and Development"
   ]
  },
  {
   "cell_type": "code",
   "execution_count": 12,
   "id": "1b7615a8-27b6-4f65-b17a-4b67eb770130",
   "metadata": {},
   "outputs": [
    {
     "data": {
      "text/plain": [
       "0    0.010636\n",
       "4    1.357300\n",
       "5    0.007188\n",
       "6    1.200200\n",
       "7    2.234800\n",
       "Name: Financial Distress, dtype: float64"
      ]
     },
     "execution_count": 12,
     "metadata": {},
     "output_type": "execute_result"
    }
   ],
   "source": [
    "# Split data into training and testing\n",
    "\n",
    "# X_train, y_train = financial_data.loc[:,financial_data.columns!='Financial Distress'], financial_data.loc[:,'Financial Distress']#.values\n",
    "X, y = financial_data.loc[:,financial_data.columns=='x1'], financial_data.loc[:,'Financial Distress']#.values\n",
    "y.head()\n",
    "# y_train.head()"
   ]
  },
  {
   "cell_type": "code",
   "execution_count": 13,
   "id": "e46160f4-65c4-4795-a588-511d2fc7a4ea",
   "metadata": {},
   "outputs": [],
   "source": [
    "# # Split data in test and training\n",
    "# target = \"Financial Distress\"\n",
    "# feature = \"x1\"\n",
    "# y = financial_data[target]\n",
    "# X = financial_data[feature]\n",
    "# # X = financial_data.drop(columns=target)\n",
    "# X.head()"
   ]
  },
  {
   "cell_type": "code",
   "execution_count": 29,
   "id": "a5c2b244-1c61-4ef0-b458-4d887f9917dd",
   "metadata": {},
   "outputs": [
    {
     "data": {
      "text/plain": [
       "(881,)"
      ]
     },
     "execution_count": 29,
     "metadata": {},
     "output_type": "execute_result"
    }
   ],
   "source": [
    "# Cutoff point to split the data into two\n",
    "cutoff = int(len(X) * 0.7)\n",
    "\n",
    "X_train, y_train = X.iloc[:cutoff], y.iloc[:cutoff]\n",
    "X_test, y_test = X.iloc[cutoff:], y.iloc[cutoff:]\n",
    "\n",
    "y_test.shape"
   ]
  },
  {
   "cell_type": "code",
   "execution_count": 30,
   "id": "5ad1433a-fbdf-428b-a60f-25da681e2352",
   "metadata": {},
   "outputs": [
    {
     "name": "stdout",
     "output_type": "stream",
     "text": [
      "Shape of Feature matrix (2055, 1).\n",
      "Shape of Target vectore (2055,).\n"
     ]
    }
   ],
   "source": [
    "# Shape of our feature and target vectors\n",
    "print(f\"Shape of Feature matrix {X_train.shape}.\")\n",
    "print(f\"Shape of Target vectore {y_train.shape}.\")"
   ]
  },
  {
   "cell_type": "code",
   "execution_count": 31,
   "id": "959e3921-2943-4d84-b141-cbb40de12521",
   "metadata": {},
   "outputs": [
    {
     "data": {
      "text/plain": [
       "0.793670280836983"
      ]
     },
     "execution_count": 31,
     "metadata": {},
     "output_type": "execute_result"
    }
   ],
   "source": [
    "# Building the baseline model for lenear regression\n",
    "y_mean = y_train.mean()\n",
    "y_mean\n"
   ]
  },
  {
   "cell_type": "code",
   "execution_count": 32,
   "id": "bad5a634-aa10-4489-9886-3fc4692c38f7",
   "metadata": {},
   "outputs": [],
   "source": [
    "y_pred_baseline = [y_mean] * len(y_train)"
   ]
  },
  {
   "cell_type": "code",
   "execution_count": 34,
   "id": "c719c3c2-576f-438f-a39f-efbd0d04fab7",
   "metadata": {},
   "outputs": [],
   "source": [
    "# y_pred_baseline"
   ]
  },
  {
   "cell_type": "code",
   "execution_count": 35,
   "id": "99a9466b-b19a-4432-a716-1db0c605ef69",
   "metadata": {},
   "outputs": [
    {
     "data": {
      "image/png": "[encoded data removed]",
      "text/plain": [
       "<Figure size 640x480 with 1 Axes>"
      ]
     },
     "metadata": {},
     "output_type": "display_data"
    }
   ],
   "source": [
    "plt.plot(X_train.values, y_pred_baseline, color=\"orange\", label=\"Baseline Model\")\n",
    "plt.scatter(X_train, y_train)\n",
    "plt.xlabel(\"First Variable\")\n",
    "plt.ylabel(\"Financial Distress\")\n",
    "plt.title(\"Distribution of FD vs. First Variable\")\n",
    "plt.legend();"
   ]
  },
  {
   "cell_type": "code",
   "execution_count": 36,
   "id": "c10a0b1f-951e-4208-bee6-53e1d7a394af",
   "metadata": {},
   "outputs": [
    {
     "name": "stdout",
     "output_type": "stream",
     "text": [
      "Mean apt value 0.79\n",
      "Baseline MAE: 0.54\n"
     ]
    }
   ],
   "source": [
    "# Calculate the baseline for the mean absolute error\n",
    "mae_baseline = mean_absolute_error(y_train, y_pred_baseline)\n",
    "\n",
    "print(\"Mean apt value\", round(y_mean, 2))\n",
    "print(\"Baseline MAE:\", round(mae_baseline, 2))"
   ]
  },
  {
   "cell_type": "code",
   "execution_count": 37,
   "id": "a92c7e76-942d-4f9e-a651-9c1bba6c4179",
   "metadata": {},
   "outputs": [
    {
     "data": {
      "text/html": [
       "<style>#sk-container-id-2 {color: black;}#sk-container-id-2 pre{padding: 0;}#sk-container-id-2 div.sk-toggleable {background-color: white;}#sk-container-id-2 label.sk-toggleable__label {cursor: pointer;display: block;width: 100%;margin-bottom: 0;padding: 0.3em;box-sizing: border-box;text-align: center;}#sk-container-id-2 label.sk-toggleable__label-arrow:before {content: \"▸\";float: left;margin-right: 0.25em;color: #696969;}#sk-container-id-2 label.sk-toggleable__label-arrow:hover:before {color: black;}#sk-container-id-2 div.sk-estimator:hover label.sk-toggleable__label-arrow:before {color: black;}#sk-container-id-2 div.sk-toggleable__content {max-height: 0;max-width: 0;overflow: hidden;text-align: left;background-color: #f0f8ff;}#sk-container-id-2 div.sk-toggleable__content pre {margin: 0.2em;color: black;border-radius: 0.25em;background-color: #f0f8ff;}#sk-container-id-2 input.sk-toggleable__control:checked~div.sk-toggleable__content {max-height: 200px;max-width: 100%;overflow: auto;}#sk-container-id-2 input.sk-toggleable__control:checked~label.sk-toggleable__label-arrow:before {content: \"▾\";}#sk-container-id-2 div.sk-estimator input.sk-toggleable__control:checked~label.sk-toggleable__label {background-color: #d4ebff;}#sk-container-id-2 div.sk-label input.sk-toggleable__control:checked~label.sk-toggleable__label {background-color: #d4ebff;}#sk-container-id-2 input.sk-hidden--visually {border: 0;clip: rect(1px 1px 1px 1px);clip: rect(1px, 1px, 1px, 1px);height: 1px;margin: -1px;overflow: hidden;padding: 0;position: absolute;width: 1px;}#sk-container-id-2 div.sk-estimator {font-family: monospace;background-color: #f0f8ff;border: 1px dotted black;border-radius: 0.25em;box-sizing: border-box;margin-bottom: 0.5em;}#sk-container-id-2 div.sk-estimator:hover {background-color: #d4ebff;}#sk-container-id-2 div.sk-parallel-item::after {content: \"\";width: 100%;border-bottom: 1px solid gray;flex-grow: 1;}#sk-container-id-2 div.sk-label:hover label.sk-toggleable__label {background-color: #d4ebff;}#sk-container-id-2 div.sk-serial::before {content: \"\";position: absolute;border-left: 1px solid gray;box-sizing: border-box;top: 0;bottom: 0;left: 50%;z-index: 0;}#sk-container-id-2 div.sk-serial {display: flex;flex-direction: column;align-items: center;background-color: white;padding-right: 0.2em;padding-left: 0.2em;position: relative;}#sk-container-id-2 div.sk-item {position: relative;z-index: 1;}#sk-container-id-2 div.sk-parallel {display: flex;align-items: stretch;justify-content: center;background-color: white;position: relative;}#sk-container-id-2 div.sk-item::before, #sk-container-id-2 div.sk-parallel-item::before {content: \"\";position: absolute;border-left: 1px solid gray;box-sizing: border-box;top: 0;bottom: 0;left: 50%;z-index: -1;}#sk-container-id-2 div.sk-parallel-item {display: flex;flex-direction: column;z-index: 1;position: relative;background-color: white;}#sk-container-id-2 div.sk-parallel-item:first-child::after {align-self: flex-end;width: 50%;}#sk-container-id-2 div.sk-parallel-item:last-child::after {align-self: flex-start;width: 50%;}#sk-container-id-2 div.sk-parallel-item:only-child::after {width: 0;}#sk-container-id-2 div.sk-dashed-wrapped {border: 1px dashed gray;margin: 0 0.4em 0.5em 0.4em;box-sizing: border-box;padding-bottom: 0.4em;background-color: white;}#sk-container-id-2 div.sk-label label {font-family: monospace;font-weight: bold;display: inline-block;line-height: 1.2em;}#sk-container-id-2 div.sk-label-container {text-align: center;}#sk-container-id-2 div.sk-container {/* jupyter's `normalize.less` sets `[hidden] { display: none; }` but bootstrap.min.css set `[hidden] { display: none !important; }` so we also need the `!important` here to be able to override the default hidden behavior on the sphinx rendered scikit-learn.org. See: https://github.com/scikit-learn/scikit-learn/issues/21755 */display: inline-block !important;position: relative;}#sk-container-id-2 div.sk-text-repr-fallback {display: none;}</style><div id=\"sk-container-id-2\" class=\"sk-top-container\"><div class=\"sk-text-repr-fallback\"><pre>LinearRegression()</pre><b>In a Jupyter environment, please rerun this cell to show the HTML representation or trust the notebook. <br />On GitHub, the HTML representation is unable to render, please try loading this page with nbviewer.org.</b></div><div class=\"sk-container\" hidden><div class=\"sk-item\"><div class=\"sk-estimator sk-toggleable\"><input class=\"sk-toggleable__control sk-hidden--visually\" id=\"sk-estimator-id-2\" type=\"checkbox\" checked><label for=\"sk-estimator-id-2\" class=\"sk-toggleable__label sk-toggleable__label-arrow\">LinearRegression</label><div class=\"sk-toggleable__content\"><pre>LinearRegression()</pre></div></div></div></div></div>"
      ],
      "text/plain": [
       "LinearRegression()"
      ]
     },
     "execution_count": 37,
     "metadata": {},
     "output_type": "execute_result"
    }
   ],
   "source": [
    "# Iterate the model\n",
    "\n",
    "# Build the model\n",
    "model = LinearRegression()\n",
    "\n",
    "# Fit the model\n",
    "model.fit(X_train, y_train)"
   ]
  },
  {
   "cell_type": "markdown",
   "id": "6b62d3c5-d419-4333-a3dc-90412b90cbd6",
   "metadata": {},
   "source": [
    "### Task 2.3. Model Evaluation and Validation"
   ]
  },
  {
   "cell_type": "code",
   "execution_count": 38,
   "id": "05d54904-69d5-4ed1-8f0a-cf1da6657aa8",
   "metadata": {},
   "outputs": [
    {
     "data": {
      "text/plain": [
       "array([0.79313659, 0.76642923, 0.76563546, 0.75522972, 0.76602624])"
      ]
     },
     "execution_count": 38,
     "metadata": {},
     "output_type": "execute_result"
    }
   ],
   "source": [
    "# Evaluate the model's performance\n",
    "y_pred_training = model.predict(X_train)\n",
    "y_pred_training[:5]"
   ]
  },
  {
   "cell_type": "code",
   "execution_count": 39,
   "id": "9d82de73-2e8a-47cb-97ba-1f4d2497f12b",
   "metadata": {},
   "outputs": [
    {
     "name": "stdout",
     "output_type": "stream",
     "text": [
      "Training RMSE: 0.661\n",
      "Training MAE: 0.5394\n"
     ]
    }
   ],
   "source": [
    "# Calculate your training MAE and RMSE for your predictions\n",
    "mae_training = mean_absolute_error(y_train, y_pred_training)\n",
    "rmse = np.sqrt(mean_squared_error(y_train, y_pred_training))\n",
    "\n",
    "print(f\"Training RMSE: {round(rmse, 4)}\")\n",
    "print(\"Training MAE:\", round(mae_training, 4))"
   ]
  },
  {
   "cell_type": "code",
   "execution_count": 40,
   "id": "fa29df62-2e09-45e8-994a-e6836950791d",
   "metadata": {},
   "outputs": [
    {
     "data": {
      "text/plain": [
       "0    0.722684\n",
       "1    0.776663\n",
       "2    0.888499\n",
       "3    0.917649\n",
       "4    0.774037\n",
       "dtype: float64"
      ]
     },
     "execution_count": 40,
     "metadata": {},
     "output_type": "execute_result"
    }
   ],
   "source": [
    "# Evaluate model's performance on test data\n",
    "# X_test = pd.read_csv(\"\")[features]\n",
    "y_pred_test = pd.Series(model.predict(X_test))\n",
    "y_pred_test.head()"
   ]
  },
  {
   "cell_type": "code",
   "execution_count": 41,
   "id": "07f78f6b-50fd-4f12-ad32-30e0a29eccf0",
   "metadata": {},
   "outputs": [
    {
     "name": "stdout",
     "output_type": "stream",
     "text": [
      "Tet RMSE: 0.745\n",
      "Test MAE: 0.5659\n"
     ]
    }
   ],
   "source": [
    "# Calculate your test MAE and RMSE for your predictions\n",
    "test_mae = mean_absolute_error(y_test, y_pred_test)\n",
    "test_rmse = np.sqrt(mean_squared_error(y_test, y_pred_test))\n",
    "\n",
    "print(f\"Tet RMSE: {round(test_rmse, 4)}\")\n",
    "print(\"Test MAE:\", round(test_mae, 4))"
   ]
  },
  {
   "cell_type": "code",
   "execution_count": 42,
   "id": "98b9967d-8517-4945-b19e-5b7f1d9c78f9",
   "metadata": {},
   "outputs": [
    {
     "name": "stdout",
     "output_type": "stream",
     "text": [
      "Average RMSE across folds: 0.6627\n"
     ]
    }
   ],
   "source": [
    "# Performing Cross-validation with the K-Fold Cross-validation option\n",
    "\n",
    "# Assuming X is your feature matrix and y is your target variable\n",
    "kf = KFold(n_splits=5, shuffle=True, random_state=42)\n",
    "\n",
    "\n",
    "# Perform K-Fold Cross-Validation\n",
    "cv_results = cross_val_score(model, X, y, cv=kf, scoring='neg_mean_squared_error')\n",
    "\n",
    "# Convert negative mean squared error to RMSE\n",
    "rmse_cv = np.sqrt(-cv_results)\n",
    "\n",
    "# Print average RMSE across folds\n",
    "print(f\"Average RMSE across folds: {round(np.mean(rmse_cv), 4)}\")"
   ]
  },
  {
   "cell_type": "code",
   "execution_count": 43,
   "id": "e2bc24d5-c461-4ee1-bd70-6f465d9857b6",
   "metadata": {},
   "outputs": [
    {
     "name": "stdout",
     "output_type": "stream",
     "text": [
      "Financial_Distress = 0.64 + (0.12 * Other_variable)\n"
     ]
    }
   ],
   "source": [
    "# Extract the intercept and coefficient from the model\n",
    "intercept = round(model.intercept_, 2)\n",
    "coefficient = model.coef_.round(2)[0]\n",
    "\n",
    "print(f\"Financial_Distress = {intercept} + ({coefficient} * Other_variable)\")"
   ]
  },
  {
   "cell_type": "markdown",
   "id": "1d1ccc66-6cd7-47be-ba10-a49b7cc90e4b",
   "metadata": {},
   "source": [
    "# Interpretation of the results for the linear regression model:\r\n",
    "\r\n",
    "### 1. **Training Stage:**\r\n",
    "   - **RMSE (Root Mean Squared Error):** 0.661\r\n",
    "   - **MAE (Mean Absolute Error):** 0.5394\r\n",
    "\r\n",
    "### 2. **Testing Stage:**\r\n",
    "   - **RMSE (Root Mean Squared Error):** 0.745\r\n",
    "   - **MAE (Mean Absolute Error):** 0.5659\r\n",
    "\r\n",
    "### 3. **Cross-Validation:**\r\n",
    "   - **Average RMSE across Folds:** 0.6627\r\n",
    "\r\n",
    "### Interpretation:\r\n",
    "\r\n",
    "1. **Training vs. Testing Performance:**\r\n",
    "   - The model performed slightly better on the training set (RMSE = 0.661) than on the testing set (RMSE = 0.745). This is a common observation and suggests that the model might be overfitting to the training data.\r\n",
    "\r\n",
    "2. **Cross-Validation:**\r\n",
    "   - The average RMSE across folds from K-Fold cross-validation (0.6627) is consistent with the training and testing RMSE values. This indicates that the model's performance is relatively stable across different subsets of the data.\r\n",
    "\r\n",
    "3. **Mean Absolute Error:**\r\n",
    "   - Both the training MAE (0.5394) and testing MAE (0.5659) are relatively close, suggesting a consistent performance in terms of the absolute difference between predicted and actual values.\r\n",
    "\r\n",
    "### Business Implications:\r\n",
    "\r\n",
    "1. **Model Performance:**\r\n",
    "   - The model demonstrates reasonable predictive performance, with RMSE values in the range of 0.661 to 0.745. This indicates that, on average, the model's predictions are within this range of the actual values.\r\n",
    "\r\n",
    "2. **Overfitting Consideration:**\r\n",
    "   - The slight difference between training and testing performance suggests potential overfitting. It's important to monitor for signs of overfitting and consider adjusting the model complexity or regularization techniques if needed.\r\n",
    "\r\n",
    "3. **Prediction Accuracy:**\r\n",
    "   - The MAE values (0.5394 and 0.5659) represent the average absolute difference between predicted and actual values. This level of accuracy might be acceptable depending on the business context and the nature of the problem being solved.\r\n",
    "\r\n",
    "4. **Decision-Making Support:**\r\n",
    "   - The model can be used as a tool to support decision-making processes, especially if the business problem involves predicting numerical outcomes. It can provide insights into expected values, allowing for more informed decision-making.\r\n",
    "\r\n",
    "5. **Continuous Monitoring:**\r\n",
    "   - Regularly monitor the model's performance over time, especially as new data becomes available. Consider retraining the model periodically to ensure its relevance and accuracy.\r\n",
    "\r\n",
    "6. **Further Analysis:**\r\n",
    "   - Investigate feature importance to understand which variables contribute the most to the predictions. This information can provide valuable insights for business stakeholders.\r\n",
    "\r\n",
    "In summary, while the model shows promising performance, it's essential to keep an eye on potential overfitting and continuously assess its accuracy as the business environment evolves. Additionally, involving domain experts for a deeper understanding of the results can enhance the model's interpretability and usefulness in a business context."
   ]
  },
  {
   "cell_type": "markdown",
   "id": "570743fe-c244-471d-a501-6106a7ead81f",
   "metadata": {},
   "source": [
    "---\n",
    "**@ INTERNCAREERS**"
   ]
  }
 ],
 "metadata": {
  "kernelspec": {
   "display_name": "Python 3 (ipykernel)",
   "language": "python",
   "name": "python3"
  },
  "language_info": {
   "codemirror_mode": {
    "name": "ipython",
    "version": 3
   },
   "file_extension": ".py",
   "mimetype": "text/x-python",
   "name": "python",
   "nbconvert_exporter": "python",
   "pygments_lexer": "ipython3",
   "version": "3.11.5"
  }
 },
 "nbformat": 4,
 "nbformat_minor": 5
}
